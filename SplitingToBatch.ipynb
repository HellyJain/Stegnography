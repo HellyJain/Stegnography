{
 "cells": [
  {
   "cell_type": "code",
   "execution_count": 2,
   "metadata": {},
   "outputs": [
    {
     "data": {
      "text/html": [
       "<div>\n",
       "<style scoped>\n",
       "    .dataframe tbody tr th:only-of-type {\n",
       "        vertical-align: middle;\n",
       "    }\n",
       "\n",
       "    .dataframe tbody tr th {\n",
       "        vertical-align: top;\n",
       "    }\n",
       "\n",
       "    .dataframe thead th {\n",
       "        text-align: right;\n",
       "    }\n",
       "</style>\n",
       "<table border=\"1\" class=\"dataframe\">\n",
       "  <thead>\n",
       "    <tr style=\"text-align: right;\">\n",
       "      <th></th>\n",
       "      <th>Unnamed: 0</th>\n",
       "      <th>imagepath</th>\n",
       "      <th>imagename</th>\n",
       "      <th>label</th>\n",
       "    </tr>\n",
       "  </thead>\n",
       "  <tbody>\n",
       "    <tr>\n",
       "      <th>0</th>\n",
       "      <td>0</td>\n",
       "      <td>gs://kds-710f4cc0a1dc7cc3dcad3cf7149c819425479...</td>\n",
       "      <td>77231.jpg</td>\n",
       "      <td>0</td>\n",
       "    </tr>\n",
       "    <tr>\n",
       "      <th>1</th>\n",
       "      <td>1</td>\n",
       "      <td>gs://kds-710f4cc0a1dc7cc3dcad3cf7149c819425479...</td>\n",
       "      <td>32130.jpg</td>\n",
       "      <td>0</td>\n",
       "    </tr>\n",
       "    <tr>\n",
       "      <th>2</th>\n",
       "      <td>2</td>\n",
       "      <td>gs://kds-710f4cc0a1dc7cc3dcad3cf7149c819425479...</td>\n",
       "      <td>31619.jpg</td>\n",
       "      <td>0</td>\n",
       "    </tr>\n",
       "    <tr>\n",
       "      <th>3</th>\n",
       "      <td>3</td>\n",
       "      <td>gs://kds-710f4cc0a1dc7cc3dcad3cf7149c819425479...</td>\n",
       "      <td>67721.jpg</td>\n",
       "      <td>0</td>\n",
       "    </tr>\n",
       "    <tr>\n",
       "      <th>4</th>\n",
       "      <td>4</td>\n",
       "      <td>gs://kds-710f4cc0a1dc7cc3dcad3cf7149c819425479...</td>\n",
       "      <td>11242.jpg</td>\n",
       "      <td>0</td>\n",
       "    </tr>\n",
       "  </tbody>\n",
       "</table>\n",
       "</div>"
      ],
      "text/plain": [
       "   Unnamed: 0                                          imagepath  imagename  \\\n",
       "0           0  gs://kds-710f4cc0a1dc7cc3dcad3cf7149c819425479...  77231.jpg   \n",
       "1           1  gs://kds-710f4cc0a1dc7cc3dcad3cf7149c819425479...  32130.jpg   \n",
       "2           2  gs://kds-710f4cc0a1dc7cc3dcad3cf7149c819425479...  31619.jpg   \n",
       "3           3  gs://kds-710f4cc0a1dc7cc3dcad3cf7149c819425479...  67721.jpg   \n",
       "4           4  gs://kds-710f4cc0a1dc7cc3dcad3cf7149c819425479...  11242.jpg   \n",
       "\n",
       "   label  \n",
       "0      0  \n",
       "1      0  \n",
       "2      0  \n",
       "3      0  \n",
       "4      0  "
      ]
     },
     "execution_count": 2,
     "metadata": {},
     "output_type": "execute_result"
    }
   ],
   "source": [
    "import pandas as pd\n",
    "df = pd.read_csv('M:\\\\Kaggle\\\\Image_Stegnography\\\\input_dataset_ALASKA.csv')\n",
    "df.head()"
   ]
  },
  {
   "cell_type": "code",
   "execution_count": 3,
   "metadata": {},
   "outputs": [
    {
     "data": {
      "text/html": [
       "<div>\n",
       "<style scoped>\n",
       "    .dataframe tbody tr th:only-of-type {\n",
       "        vertical-align: middle;\n",
       "    }\n",
       "\n",
       "    .dataframe tbody tr th {\n",
       "        vertical-align: top;\n",
       "    }\n",
       "\n",
       "    .dataframe thead th {\n",
       "        text-align: right;\n",
       "    }\n",
       "</style>\n",
       "<table border=\"1\" class=\"dataframe\">\n",
       "  <thead>\n",
       "    <tr style=\"text-align: right;\">\n",
       "      <th></th>\n",
       "      <th>Unnamed: 0</th>\n",
       "      <th>imagepath</th>\n",
       "      <th>imagename</th>\n",
       "      <th>label</th>\n",
       "      <th>batch</th>\n",
       "    </tr>\n",
       "  </thead>\n",
       "  <tbody>\n",
       "    <tr>\n",
       "      <th>0</th>\n",
       "      <td>0</td>\n",
       "      <td>gs://kds-710f4cc0a1dc7cc3dcad3cf7149c819425479...</td>\n",
       "      <td>77231.jpg</td>\n",
       "      <td>0</td>\n",
       "      <td>77231</td>\n",
       "    </tr>\n",
       "    <tr>\n",
       "      <th>1</th>\n",
       "      <td>1</td>\n",
       "      <td>gs://kds-710f4cc0a1dc7cc3dcad3cf7149c819425479...</td>\n",
       "      <td>32130.jpg</td>\n",
       "      <td>0</td>\n",
       "      <td>32130</td>\n",
       "    </tr>\n",
       "    <tr>\n",
       "      <th>2</th>\n",
       "      <td>2</td>\n",
       "      <td>gs://kds-710f4cc0a1dc7cc3dcad3cf7149c819425479...</td>\n",
       "      <td>31619.jpg</td>\n",
       "      <td>0</td>\n",
       "      <td>31619</td>\n",
       "    </tr>\n",
       "    <tr>\n",
       "      <th>3</th>\n",
       "      <td>3</td>\n",
       "      <td>gs://kds-710f4cc0a1dc7cc3dcad3cf7149c819425479...</td>\n",
       "      <td>67721.jpg</td>\n",
       "      <td>0</td>\n",
       "      <td>67721</td>\n",
       "    </tr>\n",
       "    <tr>\n",
       "      <th>4</th>\n",
       "      <td>4</td>\n",
       "      <td>gs://kds-710f4cc0a1dc7cc3dcad3cf7149c819425479...</td>\n",
       "      <td>11242.jpg</td>\n",
       "      <td>0</td>\n",
       "      <td>11242</td>\n",
       "    </tr>\n",
       "  </tbody>\n",
       "</table>\n",
       "</div>"
      ],
      "text/plain": [
       "   Unnamed: 0                                          imagepath  imagename  \\\n",
       "0           0  gs://kds-710f4cc0a1dc7cc3dcad3cf7149c819425479...  77231.jpg   \n",
       "1           1  gs://kds-710f4cc0a1dc7cc3dcad3cf7149c819425479...  32130.jpg   \n",
       "2           2  gs://kds-710f4cc0a1dc7cc3dcad3cf7149c819425479...  31619.jpg   \n",
       "3           3  gs://kds-710f4cc0a1dc7cc3dcad3cf7149c819425479...  67721.jpg   \n",
       "4           4  gs://kds-710f4cc0a1dc7cc3dcad3cf7149c819425479...  11242.jpg   \n",
       "\n",
       "   label  batch  \n",
       "0      0  77231  \n",
       "1      0  32130  \n",
       "2      0  31619  \n",
       "3      0  67721  \n",
       "4      0  11242  "
      ]
     },
     "execution_count": 3,
     "metadata": {},
     "output_type": "execute_result"
    }
   ],
   "source": [
    "df['batch'] = df['imagename'].str.slice(0,5).astype(int)\n",
    "df.head()"
   ]
  },
  {
   "cell_type": "code",
   "execution_count": 4,
   "metadata": {},
   "outputs": [
    {
     "data": {
      "text/html": [
       "<div>\n",
       "<style scoped>\n",
       "    .dataframe tbody tr th:only-of-type {\n",
       "        vertical-align: middle;\n",
       "    }\n",
       "\n",
       "    .dataframe tbody tr th {\n",
       "        vertical-align: top;\n",
       "    }\n",
       "\n",
       "    .dataframe thead th {\n",
       "        text-align: right;\n",
       "    }\n",
       "</style>\n",
       "<table border=\"1\" class=\"dataframe\">\n",
       "  <thead>\n",
       "    <tr style=\"text-align: right;\">\n",
       "      <th></th>\n",
       "      <th>Unnamed: 0</th>\n",
       "      <th>imagepath</th>\n",
       "      <th>imagename</th>\n",
       "      <th>label</th>\n",
       "      <th>batch</th>\n",
       "    </tr>\n",
       "  </thead>\n",
       "  <tbody>\n",
       "    <tr>\n",
       "      <th>0</th>\n",
       "      <td>0</td>\n",
       "      <td>gs://kds-710f4cc0a1dc7cc3dcad3cf7149c819425479...</td>\n",
       "      <td>77231.jpg</td>\n",
       "      <td>0</td>\n",
       "      <td>9</td>\n",
       "    </tr>\n",
       "    <tr>\n",
       "      <th>1</th>\n",
       "      <td>1</td>\n",
       "      <td>gs://kds-710f4cc0a1dc7cc3dcad3cf7149c819425479...</td>\n",
       "      <td>32130.jpg</td>\n",
       "      <td>0</td>\n",
       "      <td>4</td>\n",
       "    </tr>\n",
       "    <tr>\n",
       "      <th>2</th>\n",
       "      <td>2</td>\n",
       "      <td>gs://kds-710f4cc0a1dc7cc3dcad3cf7149c819425479...</td>\n",
       "      <td>31619.jpg</td>\n",
       "      <td>0</td>\n",
       "      <td>3</td>\n",
       "    </tr>\n",
       "    <tr>\n",
       "      <th>3</th>\n",
       "      <td>3</td>\n",
       "      <td>gs://kds-710f4cc0a1dc7cc3dcad3cf7149c819425479...</td>\n",
       "      <td>67721.jpg</td>\n",
       "      <td>0</td>\n",
       "      <td>8</td>\n",
       "    </tr>\n",
       "    <tr>\n",
       "      <th>4</th>\n",
       "      <td>4</td>\n",
       "      <td>gs://kds-710f4cc0a1dc7cc3dcad3cf7149c819425479...</td>\n",
       "      <td>11242.jpg</td>\n",
       "      <td>0</td>\n",
       "      <td>1</td>\n",
       "    </tr>\n",
       "  </tbody>\n",
       "</table>\n",
       "</div>"
      ],
      "text/plain": [
       "   Unnamed: 0                                          imagepath  imagename  \\\n",
       "0           0  gs://kds-710f4cc0a1dc7cc3dcad3cf7149c819425479...  77231.jpg   \n",
       "1           1  gs://kds-710f4cc0a1dc7cc3dcad3cf7149c819425479...  32130.jpg   \n",
       "2           2  gs://kds-710f4cc0a1dc7cc3dcad3cf7149c819425479...  31619.jpg   \n",
       "3           3  gs://kds-710f4cc0a1dc7cc3dcad3cf7149c819425479...  67721.jpg   \n",
       "4           4  gs://kds-710f4cc0a1dc7cc3dcad3cf7149c819425479...  11242.jpg   \n",
       "\n",
       "   label batch  \n",
       "0      0     9  \n",
       "1      0     4  \n",
       "2      0     3  \n",
       "3      0     8  \n",
       "4      0     1  "
      ]
     },
     "execution_count": 4,
     "metadata": {},
     "output_type": "execute_result"
    }
   ],
   "source": [
    "df['batch'] = pd.cut(df['batch'], 10, labels = [0,1,2,3,4,5,6,7,8,9])\n",
    "df.head()"
   ]
  },
  {
   "cell_type": "code",
   "execution_count": 5,
   "metadata": {},
   "outputs": [
    {
     "data": {
      "text/plain": [
       "2    30120\n",
       "7    30084\n",
       "6    30060\n",
       "8    30052\n",
       "5    30024\n",
       "1    29992\n",
       "0    29984\n",
       "4    29944\n",
       "3    29876\n",
       "9    29864\n",
       "Name: batch, dtype: int64"
      ]
     },
     "execution_count": 5,
     "metadata": {},
     "output_type": "execute_result"
    }
   ],
   "source": [
    "df['batch'].value_counts()"
   ]
  },
  {
   "cell_type": "code",
   "execution_count": 52,
   "metadata": {},
   "outputs": [],
   "source": [
    "df.to_csv('input_batch.csv', index=False)"
   ]
  },
  {
   "cell_type": "code",
   "execution_count": 24,
   "metadata": {},
   "outputs": [],
   "source": [
    "df['imagepath'] = df.imagepath.str.replace('gs://kds-710f4cc0a1dc7cc3dcad3cf7149c8194254794b0fba0941d5a202d1b/',\n",
    "                        'gs://kds-cd794677eb4416f86e3e23278e2d1f1e37783bc29e7982b08d469689/', regex = True)"
   ]
  },
  {
   "cell_type": "code",
   "execution_count": 8,
   "metadata": {},
   "outputs": [
    {
     "name": "stdout",
     "output_type": "stream",
     "text": [
      "0    14994\n",
      "9     5026\n",
      "6     5026\n",
      "3     5026\n",
      "8     5024\n",
      "5     5024\n",
      "2     5024\n",
      "7     4944\n",
      "4     4944\n",
      "1     4944\n",
      "Name: label, dtype: int64\n",
      "[0, 1]\n",
      "******************\n",
      "0    14999\n",
      "9     5024\n",
      "6     5024\n",
      "3     5024\n",
      "7     5019\n",
      "4     5019\n",
      "1     5019\n",
      "8     4956\n",
      "5     4956\n",
      "2     4956\n",
      "Name: label, dtype: int64\n",
      "[2, 3]\n",
      "******************\n",
      "0    14992\n",
      "9     5058\n",
      "6     5058\n",
      "3     5058\n",
      "7     4979\n",
      "4     4979\n",
      "1     4979\n",
      "8     4955\n",
      "5     4955\n",
      "2     4955\n",
      "Name: label, dtype: int64\n",
      "[4, 5]\n",
      "******************\n"
     ]
    }
   ],
   "source": [
    "for i in range(0,5,2):\n",
    "    l = [i,i+1]\n",
    "    lab = df[(df['batch'] == i) | (df['batch'] == i+1)]['label']\n",
    "    print(lab.value_counts())\n",
    "    print(l)\n",
    "    print('******************')"
   ]
  },
  {
   "cell_type": "code",
   "execution_count": 14,
   "metadata": {},
   "outputs": [
    {
     "name": "stdout",
     "output_type": "stream",
     "text": [
      "5\n"
     ]
    }
   ],
   "source": [
    "for i in range(5,6):\n",
    "    print(i)"
   ]
  }
 ],
 "metadata": {
  "kernelspec": {
   "display_name": "Python 3",
   "language": "python",
   "name": "python3"
  },
  "language_info": {
   "codemirror_mode": {
    "name": "ipython",
    "version": 3
   },
   "file_extension": ".py",
   "mimetype": "text/x-python",
   "name": "python",
   "nbconvert_exporter": "python",
   "pygments_lexer": "ipython3",
   "version": "3.7.7"
  }
 },
 "nbformat": 4,
 "nbformat_minor": 4
}
